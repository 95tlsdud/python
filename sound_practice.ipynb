{
 "cells": [
  {
   "cell_type": "code",
   "execution_count": 1,
   "metadata": {},
   "outputs": [],
   "source": [
    "from matplotlib import pyplot as plt\n",
    "from mpl_toolkits.mplot3d import Axes3D\n",
    "from mpl_toolkits.axes_grid1 import make_axes_locatable\n",
    "import IPython.display as ipd\n",
    "import numpy as np\n",
    "%matplotlib notebook\n",
    "from scipy.signal import lfilter"
   ]
  },
  {
   "cell_type": "code",
   "execution_count": 3,
   "metadata": {},
   "outputs": [],
   "source": [
    "#parameter setting\n",
    "amp = 1        #range[0.0, 1.0]\n",
    "sr = 10000     #sampling rate, Hz\n",
    "dur = 0.5      #in seconds\n",
    "freq = 100.0   #sine frequency, Hz"
   ]
  },
  {
   "cell_type": "raw",
   "metadata": {},
   "source": [
    "sr의 Hz랑 freq의 Hz는 다른 의미...?\n",
    "\n",
    "1. 왜 sine이 들어오는가?\n",
    "모든 sound는 sine wave의 합\n",
    "단순히 합하는 것이 아니라 어떤 것은 세게, 빠르게, 약하게, 느리게..\n",
    "\n",
    "2. sine wave는 어떤 요서로 구성되어져 있는가? 어떤 특징?\n",
    "개별적인 sine wave에서 음의 높낮이 -> freq\n",
    "진폭은 뭐지....?\n",
    "\n",
    "3. phasor는 sine만 있는게 아니고 cosine도 있고 뭐 복소수도 있다.\n",
    "amp가 1이면 -1 ~ 1\n",
    "amp가 2이면, -2 ~ 2"
   ]
  },
  {
   "cell_type": "code",
   "execution_count": 6,
   "metadata": {},
   "outputs": [
    {
     "data": {
      "text/plain": [
       "5000"
      ]
     },
     "execution_count": 6,
     "metadata": {},
     "output_type": "execute_result"
    }
   ],
   "source": [
    "#generating time\n",
    "t1 = np.arange(1, sr)\n",
    "t2 = np.arange(1, sr+1)/sr\n",
    "t3 = np.arange(1, sr*0.5)/sr\n",
    "t4 = np.arange(1, sr*0.5+1)/sr\n",
    "t = np.arange(1, sr*dur+1)/sr\n",
    "\n",
    "len(t)"
   ]
  },
  {
   "cell_type": "markdown",
   "metadata": {},
   "source": [
    "(1, sr) : vector 값\n",
    "1) (1, sr) : 1 부터 sr-1인 9999까지\n",
    "2) (1, sr+1)/sr : 1/10000 부터 1까지\n",
    "3) (1, sr*0.5)/sr : 1/10000 부터 4999/10000까지\n",
    "4) (1, sr*0.5+1)/sr : 1/10000 부터 5000/10000까지\n",
    "5) 0.5를 dur로 바꿔준 것 뿐\n",
    "-> 우리는 이렇게 시간을 만들 수 있다\n",
    "\n",
    "Q. 만약의 t의 길이를 알 수 있으려면?\n",
    "len(t)를 사용\n",
    "근데, len(t)를 쓰지 않고도 답이 5000인걸 알아야 한다"
   ]
  },
  {
   "cell_type": "code",
   "execution_count": 14,
   "metadata": {},
   "outputs": [
    {
     "data": {
      "text/plain": [
       "5000"
      ]
     },
     "execution_count": 14,
     "metadata": {},
     "output_type": "execute_result"
    }
   ],
   "source": [
    "# generate phase\n",
    "amp1 = 1 #range [1.1,1.0]\n",
    "sr1 = 10000 #sampling rate, Hz -> 일초에 몇 번\n",
    "dur1 = 1 #in seconds\n",
    "freq1 = 1.0 #sine frequency, Hz\n",
    "\n",
    "\n",
    "theta = t * 2*np.pi *freq\n",
    "len(theta)"
   ]
  },
  {
   "cell_type": "markdown",
   "metadata": {},
   "source": [
    "이 단계가 가장 중요한 단계\n",
    "\n",
    "1) 시간은 각도가 아니기에 sin이 받을 수 없다. 그럼 시간이랑 각도가 어떠한 관계인가? 어떻게 바꿔줄까? 그건 freq를 사용하면 바꿀 수 있다.\n",
    "\n",
    "2) 위에 보면, freq1 = 1 이란 의미는 주기가 1\n",
    "\n",
    "3) theta = t*2*np.pi\n",
    "-> 0보다 조금 큰 값에서 2파이까지, 근데 그걸 10000개로 쪼갠 것\n",
    "freq를 정의함으로 시간과 각도를 합치는 순간,,,,\n",
    "\n",
    "만약 freq가 2이면, 0부터 4파이까지 i.e. 두 바퀴 돈다\n",
    "\n",
    "4) 하는 방법은 time을 먼저 만들고 time에다가 freq랑 2*np.pi를 곱하면 된다. 그리고 theta를 vector값으로 만든다.\n",
    "\n",
    "*np.pi 대신에 import math 해주고 math.pi해도 값 계산.\n",
    "\n",
    "Q. t와 theta의 길이는 같을까? ㅇㅇ"
   ]
  },
  {
   "cell_type": "code",
   "execution_count": 15,
   "metadata": {},
   "outputs": [
    {
     "data": {
      "text/plain": [
       "5000"
      ]
     },
     "execution_count": 15,
     "metadata": {},
     "output_type": "execute_result"
    }
   ],
   "source": [
    "# generate signal by cosine-phasor\n",
    "s = np.sin(theta)\n",
    "len(s)"
   ]
  },
  {
   "cell_type": "markdown",
   "metadata": {},
   "source": [
    "1) s의 size는 5000개 (앞의 t와 theta의 size가 모두 동일)\n",
    "\n",
    "2) sin이라는 함수를 사용할 것. 이건 우리가 만드는 게 아니고 np에 있는 sin 함수를 사용\n",
    "\n",
    "3) sin안에 어떤 값이 들어갈까? 시간? 온도? -> 각도를 받아야 한다. 의미있게 출력하려면 각도 값을 넣어야한다.\n",
    "-> 각도 :  degree & radian\n",
    "sin에 radian 값을 넣어야 한다."
   ]
  },
  {
   "cell_type": "code",
   "execution_count": 16,
   "metadata": {},
   "outputs": [
    {
     "data": {
      "text/html": [
       "\n",
       "                <audio controls=\"controls\" >\n",
       "                    <source src=\"data:audio/wav;base64,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\" type=\"audio/wav\" />\n",
       "                    Your browser does not support the audio element.\n",
       "                </audio>\n",
       "              "
      ],
      "text/plain": [
       "<IPython.lib.display.Audio object>"
      ]
     },
     "execution_count": 16,
     "metadata": {},
     "output_type": "execute_result"
    },
    {
     "data": {
      "image/png": "[encoded data removed]",
      "text/plain": [
       "<Figure size 432x288 with 1 Axes>"
      ]
     },
     "metadata": {
      "needs_background": "light"
     },
     "output_type": "display_data"
    }
   ],
   "source": [
    "fig = plt.figure() \n",
    "#plot을 그리는 방법인데, 이 코드를 적어라! 이건 시험에 안나옴\n",
    "ax = fig.add_subplot(111)\n",
    "ax.plot(t[0:1000], s[0:1000], '.')\n",
    "ax.set_xlabel('time (s)')\n",
    "ax.set_ylabel('real')\n",
    "\n",
    "ipd.Audio(s, rate = sr)"
   ]
  },
  {
   "cell_type": "markdown",
   "metadata": {},
   "source": [
    "1. x축 자체가 시간 축이 기준이 되어야 진행 가능\n",
    "\n",
    "2. ax.plot(t[0:1000], s[0:1000], '.') -> 이 부분이 중요\n",
    "\n",
    "3. 잘 보면 plot을 만들 때 theta를 사용하지 않음\n",
    "ax.plot(t,s)\n",
    "wave를 보면 x축이 time이여서 각도가 들어갈 이유가 1도 없지\n",
    "\n",
    "4. 표를 보면 점으로 이루어져있는데 ,그럼 점이 몇 개일까? 라고 질문 가능하겠지? 그럼 위에 갯수랑 같지!\n",
    "\n",
    "5. time, s(sin 값)\n",
    "우리가 총 만 개의 value를 만들었는데, 그럼 100번째의 시간과 각도를 알 수 있다. 이러한 방식으로 전체를 다 이해할 줄 알아야 하고, 이해하고 있어야 한다.\n",
    "\n",
    "6. ax.plot(t[0:1000], s[0:1000], '.')\n",
    " 1) t[0:1000]\n",
    " 2) s[0:1000]\n",
    "-> 우리가 만 개로 쪼갰는데, 만 개를 다 그리면 너무 많으니까 1000개까지로 한정\n",
    " 3) '.'\n",
    "-> 점 모양으로 찍는다\n",
    "\n",
    "7. ax.set_xlabel('time (s)') / ax.set_ylabel('real')\n",
    "x축에는 time (s), y축에는 real이라는 이름을 붙여준 것\n",
    "\n",
    "8. ipd.Audio(s, rate = sr)\n",
    "소리 play 할 수 있는 값이 출력\n",
    "freq가 1이면 절대 들리지 않고, 100이여도 들리기 힘들다,,"
   ]
  },
  {
   "cell_type": "code",
   "execution_count": null,
   "metadata": {},
   "outputs": [],
   "source": [
    "# generate signal by complex-phasor\n",
    "c = np.exp(thata*1j)"
   ]
  },
  {
   "cell_type": "markdown",
   "metadata": {},
   "source": [
    "여기서 np대신 exp로 바꾸고 theta에 *1j\n",
    "이 부분은 설명이 필요!"
   ]
  }
 ],
 "metadata": {
  "kernelspec": {
   "display_name": "Python 3",
   "language": "python",
   "name": "python3"
  },
  "language_info": {
   "codemirror_mode": {
    "name": "ipython",
    "version": 3
   },
   "file_extension": ".py",
   "mimetype": "text/x-python",
   "name": "python",
   "nbconvert_exporter": "python",
   "pygments_lexer": "ipython3",
   "version": "3.7.1"
  }
 },
 "nbformat": 4,
 "nbformat_minor": 2
}
