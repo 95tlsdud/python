{
 "cells": [
  {
   "cell_type": "markdown",
   "metadata": {},
   "source": [
    "2019.04.02 목"
   ]
  },
  {
   "cell_type": "code",
   "execution_count": 1,
   "metadata": {},
   "outputs": [],
   "source": [
    "import numpy as np\n",
    "import matplotlib.pyplot as plt"
   ]
  },
  {
   "cell_type": "markdown",
   "metadata": {},
   "source": [
    "numpy는 일종의 matrix"
   ]
  },
  {
   "cell_type": "code",
   "execution_count": 6,
   "metadata": {},
   "outputs": [
    {
     "data": {
      "text/plain": [
       "array([[1735289175, 1735289188, 1008677491],\n",
       "       [-536543232, 1694520832,  889222144]])"
      ]
     },
     "execution_count": 6,
     "metadata": {},
     "output_type": "execute_result"
    }
   ],
   "source": [
    "np.empty([2,3], dtype='int')"
   ]
  },
  {
   "cell_type": "markdown",
   "metadata": {},
   "source": [
    "2*3 빈 행렬에 랜덤하게 들어가는 것\n",
    "integer가 들어가는 것"
   ]
  },
  {
   "cell_type": "code",
   "execution_count": 7,
   "metadata": {},
   "outputs": [
    {
     "data": {
      "text/plain": [
       "array([[0., 0., 0.],\n",
       "       [0., 0., 0.]])"
      ]
     },
     "execution_count": 7,
     "metadata": {},
     "output_type": "execute_result"
    }
   ],
   "source": [
    "np.zeros([2,3])"
   ]
  },
  {
   "cell_type": "markdown",
   "metadata": {},
   "source": [
    "array가 빠지면 list\n",
    "2차원 -> 2*3\n",
    "[ ]가 두 개니까 2차원\n",
    "\n",
    "zeros -> 모든 걸 0으로 채운 거"
   ]
  },
  {
   "cell_type": "code",
   "execution_count": 9,
   "metadata": {},
   "outputs": [
    {
     "data": {
      "text/plain": [
       "array([0., 2., 4., 6., 8.])"
      ]
     },
     "execution_count": 9,
     "metadata": {},
     "output_type": "execute_result"
    }
   ],
   "source": [
    "np.arange(0,10,2, dtype='float64')"
   ]
  },
  {
   "cell_type": "markdown",
   "metadata": {},
   "source": [
    "0부터 10까지 2만큼 증가하는데 마지막 10은 포함 안함\n",
    "float64 : float 중에서도 소수점이 더 뒤로가는 것"
   ]
  },
  {
   "cell_type": "code",
   "execution_count": 10,
   "metadata": {},
   "outputs": [
    {
     "data": {
      "text/plain": [
       "array([ 0.,  2.,  4.,  6.,  8., 10.])"
      ]
     },
     "execution_count": 10,
     "metadata": {},
     "output_type": "execute_result"
    }
   ],
   "source": [
    "np.linspace(0,10,6, dtype=float)"
   ]
  },
  {
   "cell_type": "markdown",
   "metadata": {},
   "source": [
    "0부터 10까지 6개 적어라"
   ]
  },
  {
   "cell_type": "code",
   "execution_count": null,
   "metadata": {},
   "outputs": [],
   "source": []
  },
  {
   "cell_type": "code",
   "execution_count": 11,
   "metadata": {},
   "outputs": [
    {
     "data": {
      "text/plain": [
       "array([[1, 2, 3],\n",
       "       [4, 5, 6]])"
      ]
     },
     "execution_count": 11,
     "metadata": {},
     "output_type": "execute_result"
    }
   ],
   "source": [
    "X = np.array([[1,2,3],[4,5,6]])\n",
    "X"
   ]
  },
  {
   "cell_type": "markdown",
   "metadata": {},
   "source": [
    "list에서  array로 바꿔준다"
   ]
  },
  {
   "cell_type": "code",
   "execution_count": 12,
   "metadata": {},
   "outputs": [
    {
     "data": {
      "text/plain": [
       "array([[1., 2., 3.],\n",
       "       [4., 5., 6.]])"
      ]
     },
     "execution_count": 12,
     "metadata": {},
     "output_type": "execute_result"
    }
   ],
   "source": [
    "X.astype(np.float64)"
   ]
  },
  {
   "cell_type": "markdown",
   "metadata": {},
   "source": [
    "type을 int에서 float로 바꾸고 싶다"
   ]
  },
  {
   "cell_type": "code",
   "execution_count": 13,
   "metadata": {},
   "outputs": [
    {
     "data": {
      "text/plain": [
       "array([[0, 0, 0],\n",
       "       [0, 0, 0]])"
      ]
     },
     "execution_count": 13,
     "metadata": {},
     "output_type": "execute_result"
    }
   ],
   "source": [
    "np.zeros_like(X)"
   ]
  },
  {
   "cell_type": "markdown",
   "metadata": {},
   "source": [
    "X를 ZERO로 바꿔주는 것, 사실 왜 하는지 모르겠음"
   ]
  },
  {
   "cell_type": "code",
   "execution_count": 14,
   "metadata": {},
   "outputs": [
    {
     "name": "stdout",
     "output_type": "stream",
     "text": [
      "[-2.10201277e+00 -1.14646945e+00 -1.09114659e+00 -1.30551710e+00\n",
      " -3.69251570e-01 -1.96854660e-01 -8.17079000e-01  1.24015345e+00\n",
      "  2.14809186e-01  2.69910931e-01 -1.72528599e-01  1.19723759e-01\n",
      " -1.68512789e-01  1.18473342e+00  9.50885724e-01  1.91999121e+00\n",
      " -8.04941563e-01  5.24606601e-01  1.27753884e+00  1.46964478e+00\n",
      "  7.95513072e-02 -2.36158050e+00 -4.56817550e-01  7.17449503e-01\n",
      "  4.64802496e-01 -6.69875389e-01 -6.74707786e-02  6.20232119e-01\n",
      "  6.96359104e-01  3.30532432e+00 -6.31022894e-01 -7.78999521e-01\n",
      " -4.73832510e-01 -2.48083825e+00 -6.12813431e-01  1.24861537e+00\n",
      "  6.92783887e-01 -1.59373287e+00  2.28467220e+00  8.23154053e-01\n",
      " -1.07644231e+00  2.08147418e-01 -5.94205511e-01 -5.64106478e-01\n",
      "  2.87185222e-01 -1.39787930e+00 -5.37484813e-01 -8.02789520e-01\n",
      " -1.61322998e+00  5.69989760e-01  1.32828167e-01  5.94186745e-01\n",
      "  2.64448735e-01 -4.96130850e-01 -3.38286973e-01 -9.14394728e-01\n",
      "  3.51711122e-01 -2.25854272e-01  6.25193560e-01 -1.61826519e-01\n",
      " -1.40300687e+00 -3.21128952e-03 -7.91352676e-01  1.96411038e+00\n",
      " -4.19914210e-02 -3.64548743e-01  5.74184112e-02 -2.21763219e-01\n",
      " -2.19736862e+00 -1.04356159e+00 -7.19395155e-01 -4.99338341e-01\n",
      "  1.60707887e-01  4.33191207e-01  1.89128909e-02 -6.57954914e-01\n",
      "  1.41330454e+00  7.09757508e-01  1.29541237e+00 -2.80766381e-01\n",
      "  5.32984756e-01 -1.37946452e+00 -1.87261185e-01  2.24463024e-01\n",
      "  3.01619872e-01 -1.43680010e-01  1.22720289e+00 -1.31739534e-01\n",
      " -4.90259943e-01 -8.64601818e-01  1.99134628e+00  1.60978846e+00\n",
      " -1.48794866e-01 -2.15561663e+00 -7.11581418e-01  1.91952175e-01\n",
      "  2.51634365e-01 -1.69693475e+00  1.37771512e-01  1.00850516e+00]\n"
     ]
    },
    {
     "data": {
      "image/png": "[encoded data removed]",
      "text/plain": [
       "<Figure size 432x288 with 1 Axes>"
      ]
     },
     "metadata": {
      "needs_background": "light"
     },
     "output_type": "display_data"
    }
   ],
   "source": [
    "data = np.random.normal(0,1,100)\n",
    "print(data)\n",
    "plt.hist(data, bins=10)\n",
    "plt.show()"
   ]
  },
  {
   "cell_type": "markdown",
   "metadata": {},
   "source": [
    "normal 이니까 정규분포 모양으로 만드는 데 임의로 뽑아서 하는 거니까\n",
    "0 : mean\n",
    "1 : standard deviation\n",
    "100개 만들어라\n",
    "\n",
    "histogram"
   ]
  },
  {
   "cell_type": "code",
   "execution_count": 15,
   "metadata": {},
   "outputs": [
    {
     "name": "stdout",
     "output_type": "stream",
     "text": [
      "[-0.38776677  1.71469258 -0.48310835 -0.21771101 -0.21378581 -0.92487627\n",
      "  1.12207877 -0.92585809  0.04787225 -1.61422756  1.36340021  0.33043565\n",
      "  0.30628184 -0.35757408  0.59675547 -1.08634659  0.01755759  1.39875991\n",
      " -0.23145562 -0.605913   -0.69257355  0.44375445  0.20264193  0.60841001\n",
      " -0.60680784  0.28277143 -0.12419502  0.77899508 -0.17616199 -0.81558717]\n"
     ]
    },
    {
     "data": {
      "image/png": "[encoded data removed]",
      "text/plain": [
       "<Figure size 432x288 with 1 Axes>"
      ]
     },
     "metadata": {
      "needs_background": "light"
     },
     "output_type": "display_data"
    }
   ],
   "source": [
    "data = np.random.normal(0,1,30)\n",
    "print(data)\n",
    "plt.hist(data, bins=10)\n",
    "plt.show()"
   ]
  }
 ],
 "metadata": {
  "kernelspec": {
   "display_name": "Python 3",
   "language": "python",
   "name": "python3"
  },
  "language_info": {
   "codemirror_mode": {
    "name": "ipython",
    "version": 3
   },
   "file_extension": ".py",
   "mimetype": "text/x-python",
   "name": "python",
   "nbconvert_exporter": "python",
   "pygments_lexer": "ipython3",
   "version": "3.7.1"
  }
 },
 "nbformat": 4,
 "nbformat_minor": 2
}
