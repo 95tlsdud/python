{
 "cells": [
  {
   "cell_type": "code",
   "execution_count": 1,
   "metadata": {},
   "outputs": [],
   "source": [
    "import numpy as np\n",
    "import matplotlib.pyplot as plt"
   ]
  },
  {
   "cell_type": "markdown",
   "metadata": {},
   "source": [
    "numpy is a kind of matrix"
   ]
  },
  {
   "cell_type": "code",
   "execution_count": 2,
   "metadata": {},
   "outputs": [
    {
     "data": {
      "text/plain": [
       "array([[         0, 1072168960,          0],\n",
       "       [1072168960,          0,          0]])"
      ]
     },
     "execution_count": 2,
     "metadata": {},
     "output_type": "execute_result"
    }
   ],
   "source": [
    "np.empty([2,3], dtype='int')"
   ]
  },
  {
   "cell_type": "markdown",
   "metadata": {},
   "source": [
    "2*3 empty matrix에 random하게 integer가 들어가는 것"
   ]
  },
  {
   "cell_type": "code",
   "execution_count": 3,
   "metadata": {},
   "outputs": [
    {
     "data": {
      "text/plain": [
       "array([[0., 0., 0.],\n",
       "       [0., 0., 0.]])"
      ]
     },
     "execution_count": 3,
     "metadata": {},
     "output_type": "execute_result"
    }
   ],
   "source": [
    "np.zeros([2,3])"
   ]
  },
  {
   "cell_type": "markdown",
   "metadata": {},
   "source": [
    "array가 빠지면, list\n",
    "2*3이므로 2차원 ([]가 2개니까 벡터 두개)\n",
    "\n",
    "zeros -> 모든 걸 0으로 채운 것"
   ]
  },
  {
   "cell_type": "code",
   "execution_count": 5,
   "metadata": {},
   "outputs": [
    {
     "data": {
      "text/plain": [
       "array([0., 2., 4., 6., 8.])"
      ]
     },
     "execution_count": 5,
     "metadata": {},
     "output_type": "execute_result"
    }
   ],
   "source": [
    "np.arange(0,10,2, dtype='float64')"
   ]
  },
  {
   "cell_type": "markdown",
   "metadata": {},
   "source": [
    "0부터 10까지 2만큼 증가하는데, 마지막 10은 포함하지 않는다\n",
    "float64 : float 중에서도 소수점이 더 뒤로가는 것(부동소수점)"
   ]
  },
  {
   "cell_type": "code",
   "execution_count": 6,
   "metadata": {},
   "outputs": [
    {
     "data": {
      "text/plain": [
       "array([ 0.,  2.,  4.,  6.,  8., 10.])"
      ]
     },
     "execution_count": 6,
     "metadata": {},
     "output_type": "execute_result"
    }
   ],
   "source": [
    "np.linspace(0,10,6, dtype=float)"
   ]
  },
  {
   "cell_type": "markdown",
   "metadata": {},
   "source": [
    "np.arange(0,10,2) #시작, 끝(포함하지 않음), 단계\n",
    "np.linspace(0,10,6) #시작, 끝(포함), 갯수"
   ]
  },
  {
   "cell_type": "code",
   "execution_count": 7,
   "metadata": {},
   "outputs": [
    {
     "data": {
      "text/plain": [
       "array([[1, 2, 3],\n",
       "       [4, 5, 6]])"
      ]
     },
     "execution_count": 7,
     "metadata": {},
     "output_type": "execute_result"
    }
   ],
   "source": [
    "X = np.array([[1,2,3],[4,5,6]])\n",
    "X"
   ]
  },
  {
   "cell_type": "markdown",
   "metadata": {},
   "source": [
    "list에서 array로 바꿔줌"
   ]
  },
  {
   "cell_type": "code",
   "execution_count": 9,
   "metadata": {},
   "outputs": [
    {
     "data": {
      "text/plain": [
       "array([[1, 4],\n",
       "       [2, 5],\n",
       "       [3, 6]])"
      ]
     },
     "execution_count": 9,
     "metadata": {},
     "output_type": "execute_result"
    }
   ],
   "source": [
    "X.T"
   ]
  },
  {
   "cell_type": "code",
   "execution_count": 8,
   "metadata": {},
   "outputs": [
    {
     "data": {
      "text/plain": [
       "array([[1., 2., 3.],\n",
       "       [4., 5., 6.]])"
      ]
     },
     "execution_count": 8,
     "metadata": {},
     "output_type": "execute_result"
    }
   ],
   "source": [
    "X.astype(np.float64)"
   ]
  },
  {
   "cell_type": "markdown",
   "metadata": {},
   "source": [
    "type을 int에서 float로 바꾸고 싶다"
   ]
  },
  {
   "cell_type": "code",
   "execution_count": 10,
   "metadata": {},
   "outputs": [
    {
     "data": {
      "text/plain": [
       "array([[0, 0, 0],\n",
       "       [0, 0, 0]])"
      ]
     },
     "execution_count": 10,
     "metadata": {},
     "output_type": "execute_result"
    }
   ],
   "source": [
    "np.zeros_like(X)"
   ]
  },
  {
   "cell_type": "code",
   "execution_count": null,
   "metadata": {},
   "outputs": [],
   "source": [
    "X를 ZERO로 바꿔주기"
   ]
  },
  {
   "cell_type": "code",
   "execution_count": 11,
   "metadata": {},
   "outputs": [
    {
     "name": "stdout",
     "output_type": "stream",
     "text": [
      "[-1.84407094e+00 -1.36408333e+00 -2.04650124e+00 -1.03125272e-02\n",
      " -2.95597470e-01 -8.52934616e-01  4.41781749e-02 -1.33854186e-01\n",
      " -2.90302025e-01  5.64515383e-01 -1.12849158e+00  1.13289899e-01\n",
      " -1.68533276e-01  1.59534437e+00  1.34024692e+00  1.50860065e+00\n",
      " -4.45079879e-01 -1.67719082e-01  8.98575424e-02 -7.48274759e-01\n",
      "  1.00049873e+00 -4.50289548e-01  1.69990717e+00  1.00945588e+00\n",
      "  7.45103480e-01  3.13881003e-01  6.93980639e-01 -8.52450897e-01\n",
      "  9.52427582e-01  3.60199713e-01  9.23597945e-01  9.66483963e-01\n",
      "  6.79085482e-01 -2.29804613e-01 -1.26542427e+00  4.55810500e-01\n",
      " -5.72553828e-01 -9.07183918e-01  4.23663599e-01  8.47207928e-01\n",
      "  6.31655792e-01 -9.29126669e-01  1.14394294e+00  3.01408710e-01\n",
      " -6.28347824e-01 -1.28298900e+00  1.06686279e-01 -8.64444948e-01\n",
      " -1.09998378e+00 -1.26655188e+00  4.66011586e-01 -6.11136186e-01\n",
      "  1.25218732e+00  3.22070395e-01  2.94523875e-02 -1.46421623e+00\n",
      " -1.07548896e+00 -1.65670966e-01  2.09415181e-01  8.28660023e-01\n",
      "  1.91785731e+00  5.24469217e-01  1.09404641e+00  4.86997152e-01\n",
      "  8.09413608e-01 -3.56554850e-01 -1.27776018e+00 -7.20028590e-01\n",
      " -4.41445668e-01 -3.71496973e-01 -3.38359845e-01 -2.10341076e+00\n",
      " -2.72805987e-01  1.19537090e+00  7.48181533e-01 -1.36484074e+00\n",
      " -1.84365560e+00  6.55503080e-01 -1.99866410e-01  3.17690512e-01\n",
      " -9.21195899e-02  3.67088839e-01  3.26833450e-01  2.65880768e-01\n",
      "  1.12704107e+00  4.91772604e-01  4.78614528e-01 -6.70498596e-01\n",
      " -1.30812279e+00 -1.70896565e-01 -2.55491901e-01 -5.01508263e-01\n",
      "  4.79729116e-01  1.78718195e+00  1.69041644e+00  2.39297140e-01\n",
      " -1.36365026e-01  7.00893348e-04  1.48118725e+00  4.89292062e-01]\n"
     ]
    },
    {
     "data": {
      "image/png": "[encoded data removed]",
      "text/plain": [
       "<Figure size 432x288 with 1 Axes>"
      ]
     },
     "metadata": {
      "needs_background": "light"
     },
     "output_type": "display_data"
    }
   ],
   "source": [
    "data = np.random.normal(0,1,100)\n",
    "print(data)\n",
    "plt.hist(data, bins=10)\n",
    "plt.show()"
   ]
  },
  {
   "cell_type": "markdown",
   "metadata": {},
   "source": [
    "normal : 정규분포 (임의 추출)\n",
    "0 : mean\n",
    "1 : standard deviation\n",
    "100 : number of samples\n",
    "bins : 구간의 경계값 리스트\n",
    "histogram"
   ]
  },
  {
   "cell_type": "code",
   "execution_count": 12,
   "metadata": {},
   "outputs": [
    {
     "name": "stdout",
     "output_type": "stream",
     "text": [
      "[ 0.30626957 -0.42892857 -0.42177939 -0.55745273  1.16155255  1.52570096\n",
      "  0.28798774 -1.06411638  1.07879162 -0.56937195 -0.52139928 -0.12294676\n",
      " -1.10014811 -0.61232627  0.30665582  1.87841425  0.84367385 -0.12360989\n",
      "  1.61324427 -2.01028595  0.65403645  0.00291738  0.56445845 -2.19717133\n",
      "  0.18506414  0.81857534  0.30832444  0.41498928  0.25559129  0.3682084 ]\n"
     ]
    },
    {
     "data": {
      "image/png": "[encoded data removed]",
      "text/plain": [
       "<Figure size 432x288 with 1 Axes>"
      ]
     },
     "metadata": {
      "needs_background": "light"
     },
     "output_type": "display_data"
    }
   ],
   "source": [
    "data = np.random.normal(0,1,30)\n",
    "print(data)\n",
    "plt.hist(data, bins=10)\n",
    "plt.show()"
   ]
  }
 ],
 "metadata": {
  "kernelspec": {
   "display_name": "Python 3",
   "language": "python",
   "name": "python3"
  },
  "language_info": {
   "codemirror_mode": {
    "name": "ipython",
    "version": 3
   },
   "file_extension": ".py",
   "mimetype": "text/x-python",
   "name": "python",
   "nbconvert_exporter": "python",
   "pygments_lexer": "ipython3",
   "version": "3.7.1"
  }
 },
 "nbformat": 4,
 "nbformat_minor": 2
}
